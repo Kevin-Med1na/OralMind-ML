{
  "cells": [
    {
      "cell_type": "markdown",
      "metadata": {
        "id": "9z2j1XWnWD-0"
      },
      "source": [
        "Bajar el dataset de imagenes desde google drive"
      ]
    },
    {
      "cell_type": "code",
      "execution_count": 1,
      "metadata": {
        "colab": {
          "base_uri": "https://localhost:8080/"
        },
        "id": "Ma9tsIB1PC61",
        "outputId": "29c826fc-b3ba-468c-fa35-b635ed7eb5a1"
      },
      "outputs": [],
      "source": [
        "dataset_path = \"./Oral-Diseases-DataSet\""
      ]
    },
    {
      "cell_type": "code",
      "execution_count": 2,
      "metadata": {
        "id": "RNWeS3arVRY0"
      },
      "outputs": [],
      "source": [
        "import tensorflow as tf\n",
        "from tensorflow.keras.applications import InceptionV3\n",
        "from tensorflow.keras.layers import Dense, GlobalAveragePooling2D, Dropout\n",
        "from tensorflow.keras.models import Model\n",
        "from tensorflow.keras.preprocessing.image import ImageDataGenerator\n",
        "from tensorflow.keras.optimizers import Adam"
      ]
    },
    {
      "cell_type": "code",
      "execution_count": 3,
      "metadata": {
        "id": "sPIYR9rOwcb-"
      },
      "outputs": [],
      "source": [
        "IMAGE_SIZE = (224, 224)\n",
        "BATCH_SIZE = 64"
      ]
    },
    {
      "cell_type": "code",
      "execution_count": 4,
      "metadata": {
        "id": "SPNM9VuqzPZ8"
      },
      "outputs": [],
      "source": [
        "val_path = 'Oral-Diseases-DataSet/val'\n",
        "train_path = 'Oral-Diseases-DataSet/train'\n",
        "test_path = 'Oral-Diseases-DataSet/test'"
      ]
    },
    {
      "cell_type": "code",
      "execution_count": 5,
      "metadata": {
        "id": "vHaxHYOWxMP0"
      },
      "outputs": [],
      "source": [
        "def dataset():\n",
        "  rescale = tf.keras.layers.Rescaling(1./255)\n",
        "  training_dataset = tf.keras.utils.image_dataset_from_directory(\n",
        "        directory=train_path,\n",
        "        batch_size=BATCH_SIZE,\n",
        "        image_size=IMAGE_SIZE,\n",
        "        shuffle=True,\n",
        "        seed=42,\n",
        "    )\n",
        "\n",
        "  validation_dataset = tf.keras.utils.image_dataset_from_directory(\n",
        "        directory=val_path,\n",
        "        batch_size=BATCH_SIZE,\n",
        "        image_size=IMAGE_SIZE,\n",
        "        shuffle=True,\n",
        "        seed=42,\n",
        "    )\n",
        "  test_dataset = tf.keras.utils.image_dataset_from_directory(\n",
        "        directory=test_path,\n",
        "        batch_size=BATCH_SIZE,\n",
        "        image_size=IMAGE_SIZE,\n",
        "        shuffle=True,\n",
        "        seed=42,\n",
        "    )\n",
        "\n",
        "  training_dataset = training_dataset.map(lambda x, y: (rescale(x), y))\n",
        "  validation_dataset = validation_dataset.map(lambda x, y: (rescale(x), y))\n",
        "  test_dataset = test_dataset.map(lambda x, y: (rescale(x), y))\n",
        "\n",
        "  return training_dataset, validation_dataset, test_dataset"
      ]
    },
    {
      "cell_type": "code",
      "execution_count": 6,
      "metadata": {
        "colab": {
          "base_uri": "https://localhost:8080/"
        },
        "id": "3Ky3Gw8Mxk-_",
        "outputId": "2bcffa13-87c9-4d4e-990d-9aba7179ab97"
      },
      "outputs": [
        {
          "name": "stdout",
          "output_type": "stream",
          "text": [
            "Found 11683 files belonging to 6 classes.\n",
            "Found 1410 files belonging to 6 classes.\n",
            "Found 1410 files belonging to 6 classes.\n"
          ]
        }
      ],
      "source": [
        "training_dataset, validation_dataset, test_dataset = dataset()"
      ]
    },
    {
      "cell_type": "code",
      "execution_count": 7,
      "metadata": {
        "id": "JZzJkFIQz6Wx"
      },
      "outputs": [],
      "source": [
        "def create_pre_trained_model():\n",
        "  pre_trained_model = InceptionV3(\n",
        "      input_shape=(224, 224, 3),\n",
        "      include_top=False,\n",
        "      weights='imagenet',\n",
        "  )\n",
        "\n",
        "  for layer in pre_trained_model.layers:\n",
        "    layer.trainable = False\n",
        "\n",
        "  return pre_trained_model"
      ]
    },
    {
      "cell_type": "code",
      "execution_count": 8,
      "metadata": {
        "colab": {
          "base_uri": "https://localhost:8080/"
        },
        "id": "h4hQTTZfz9QO",
        "outputId": "81d8d0e2-6668-426d-cf43-8a1ed6cf6be0"
      },
      "outputs": [],
      "source": [
        "pre_trained_model = create_pre_trained_model()"
      ]
    },
    {
      "cell_type": "code",
      "execution_count": 9,
      "metadata": {
        "id": "YHHOrhQb1cQO"
      },
      "outputs": [],
      "source": [
        "def output_last_layer(pre_trained_model):\n",
        "  last_layer = pre_trained_model.get_layer('mixed7')\n",
        "  last_output = last_layer.output\n",
        "  print('last layer output shape: ', last_output.shape)\n",
        "\n",
        "  return last_output"
      ]
    },
    {
      "cell_type": "code",
      "execution_count": 10,
      "metadata": {
        "colab": {
          "base_uri": "https://localhost:8080/"
        },
        "id": "4Sdt8RnM1eor",
        "outputId": "4a05f578-176a-4c5c-ffa2-5ef9b4ea60ac"
      },
      "outputs": [
        {
          "name": "stdout",
          "output_type": "stream",
          "text": [
            "last layer output shape:  (None, 12, 12, 768)\n"
          ]
        }
      ],
      "source": [
        "last_output = output_last_layer(pre_trained_model)"
      ]
    },
    {
      "cell_type": "code",
      "execution_count": 11,
      "metadata": {
        "id": "wUNtF0S71h-a"
      },
      "outputs": [],
      "source": [
        "def main_model(pre_trained_model, last_output):\n",
        "  x = tf.keras.layers.Flatten()(last_output)\n",
        "  x = tf.keras.layers.Dense(1024, activation='relu')(x)\n",
        "  x = tf.keras.layers.Dropout(0.2)(x)\n",
        "  predictions = tf.keras.layers.Dense(6, activation='softmax')(x)\n",
        "\n",
        "  model = tf.keras.Model(inputs=pre_trained_model.input, outputs=predictions)\n",
        "\n",
        "  model.compile(\n",
        "      optimizer=Adam(),\n",
        "      loss='sparse_categorical_crossentropy',\n",
        "      metrics=['accuracy'],\n",
        "  )\n",
        "\n",
        "  return model"
      ]
    },
    {
      "cell_type": "code",
      "execution_count": 12,
      "metadata": {
        "id": "DbY4rw271j0Y"
      },
      "outputs": [],
      "source": [
        "model = main_model(pre_trained_model, last_output)"
      ]
    },
    {
      "cell_type": "code",
      "execution_count": 13,
      "metadata": {
        "colab": {
          "base_uri": "https://localhost:8080/"
        },
        "id": "yuSh_tBu1nxB",
        "outputId": "bdec10ee-3ab1-4fcf-92e9-135f38cfc910"
      },
      "outputs": [
        {
          "name": "stdout",
          "output_type": "stream",
          "text": [
            "There are 122,228,646 total parameters in this model.\n",
            "There are 113,253,382 trainable parameters in this model.\n"
          ]
        }
      ],
      "source": [
        "# Inspect parameters\n",
        "total_params = model.count_params()\n",
        "num_trainable_params = sum([w.shape.num_elements() for w in model.trainable_weights])\n",
        "\n",
        "print(f\"There are {total_params:,} total parameters in this model.\")\n",
        "print(f\"There are {num_trainable_params:,} trainable parameters in this model.\")"
      ]
    },
    {
      "cell_type": "code",
      "execution_count": 14,
      "metadata": {
        "colab": {
          "base_uri": "https://localhost:8080/"
        },
        "id": "Fd5TyGnI1rmT",
        "outputId": "a9bc08f7-837c-4563-f71b-af54d0fa4556"
      },
      "outputs": [
        {
          "name": "stdout",
          "output_type": "stream",
          "text": [
            "\u001b[1m183/183\u001b[0m \u001b[32m━━━━━━━━━━━━━━━━━━━━\u001b[0m\u001b[37m\u001b[0m \u001b[1m611s\u001b[0m 3s/step - accuracy: 0.6249 - loss: 2.8513 - val_accuracy: 0.7191 - val_loss: 1.1003\n"
          ]
        }
      ],
      "source": [
        "history = model.fit(\n",
        "    training_dataset,\n",
        "    validation_data=validation_dataset,\n",
        "    epochs=1,\n",
        "    verbose=1\n",
        ")"
      ]
    },
    {
      "cell_type": "code",
      "execution_count": 15,
      "metadata": {
        "id": "vmjCeXvu1y3L"
      },
      "outputs": [],
      "source": [
        "data_augmentation = tf.keras.Sequential([\n",
        "    tf.keras.layers.RandomFlip(\"horizontal\"),\n",
        "    tf.keras.layers.RandomRotation(0.2),\n",
        "    tf.keras.layers.RandomZoom(0.2),\n",
        "])\n",
        "\n",
        "def create_augmented_model(pre_trained_model, last_output):\n",
        "    x = data_augmentation(pre_trained_model.input)\n",
        "    x = pre_trained_model(x)\n",
        "    x = tf.keras.layers.Flatten()(x)\n",
        "    x = tf.keras.layers.Dense(1024, activation='relu')(x)\n",
        "    x = tf.keras.layers.Dropout(0.3)(x)  # Increased dropout\n",
        "    predictions = tf.keras.layers.Dense(6, activation='softmax')(x)\n",
        "    model = tf.keras.Model(inputs=pre_trained_model.input, outputs=predictions)\n",
        "    model.compile(\n",
        "        optimizer=Adam(learning_rate=1e-4),  # Reduced learning rate\n",
        "        loss='sparse_categorical_crossentropy',\n",
        "        metrics=['accuracy']\n",
        "    )\n",
        "    return model"
      ]
    },
    {
      "cell_type": "code",
      "execution_count": 16,
      "metadata": {
        "id": "VMFPFadIAcew"
      },
      "outputs": [],
      "source": [
        "def create_fine_tuned_model():\n",
        "    pre_trained_model = InceptionV3(\n",
        "        input_shape=(224, 224, 3),\n",
        "        include_top=False,\n",
        "        weights='imagenet'\n",
        "    )\n",
        "    # Unfreeze some top layers for fine-tuning\n",
        "    for layer in pre_trained_model.layers[-50:]:\n",
        "        layer.trainable = True\n",
        "\n",
        "    x = tf.keras.layers.GlobalAveragePooling2D()(pre_trained_model.output)\n",
        "    x = tf.keras.layers.Dense(1024, activation='relu')(x)\n",
        "    x = tf.keras.layers.Dropout(0.4)(x)\n",
        "    predictions = tf.keras.layers.Dense(6, activation='softmax')(x)\n",
        "\n",
        "    model = tf.keras.Model(inputs=pre_trained_model.input, outputs=predictions)\n",
        "\n",
        "    model.compile(\n",
        "        optimizer=Adam(learning_rate=1e-5),  # Very low learning rate for fine-tuning\n",
        "        loss='sparse_categorical_crossentropy',\n",
        "        metrics=['accuracy']\n",
        "    )\n",
        "    return model"
      ]
    },
    {
      "cell_type": "code",
      "execution_count": 17,
      "metadata": {
        "colab": {
          "base_uri": "https://localhost:8080/"
        },
        "id": "W3s8fGJtAfkw",
        "outputId": "9fac2f8a-93a8-442c-ca85-782e951ff09c"
      },
      "outputs": [
        {
          "name": "stdout",
          "output_type": "stream",
          "text": [
            "Epoch 1/50\n",
            "\u001b[1m183/183\u001b[0m \u001b[32m━━━━━━━━━━━━━━━━━━━━\u001b[0m\u001b[37m\u001b[0m \u001b[1m618s\u001b[0m 3s/step - accuracy: 0.9017 - loss: 0.2544 - val_accuracy: 0.7376 - val_loss: 1.3704 - learning_rate: 0.0010\n",
            "Epoch 2/50\n",
            "\u001b[1m183/183\u001b[0m \u001b[32m━━━━━━━━━━━━━━━━━━━━\u001b[0m\u001b[37m\u001b[0m \u001b[1m565s\u001b[0m 3s/step - accuracy: 0.9337 - loss: 0.1679 - val_accuracy: 0.7447 - val_loss: 1.2464 - learning_rate: 0.0010\n",
            "Epoch 3/50\n",
            "\u001b[1m183/183\u001b[0m \u001b[32m━━━━━━━━━━━━━━━━━━━━\u001b[0m\u001b[37m\u001b[0m \u001b[1m566s\u001b[0m 3s/step - accuracy: 0.9421 - loss: 0.1398 - val_accuracy: 0.7603 - val_loss: 1.2161 - learning_rate: 0.0010\n",
            "Epoch 4/50\n",
            "\u001b[1m183/183\u001b[0m \u001b[32m━━━━━━━━━━━━━━━━━━━━\u001b[0m\u001b[37m\u001b[0m \u001b[1m571s\u001b[0m 3s/step - accuracy: 0.9467 - loss: 0.1225 - val_accuracy: 0.7440 - val_loss: 1.4414 - learning_rate: 0.0010\n",
            "Epoch 5/50\n",
            "\u001b[1m183/183\u001b[0m \u001b[32m━━━━━━━━━━━━━━━━━━━━\u001b[0m\u001b[37m\u001b[0m \u001b[1m576s\u001b[0m 3s/step - accuracy: 0.9455 - loss: 0.1264 - val_accuracy: 0.7631 - val_loss: 1.1719 - learning_rate: 0.0010\n",
            "Epoch 6/50\n",
            "\u001b[1m183/183\u001b[0m \u001b[32m━━━━━━━━━━━━━━━━━━━━\u001b[0m\u001b[37m\u001b[0m \u001b[1m576s\u001b[0m 3s/step - accuracy: 0.9514 - loss: 0.1189 - val_accuracy: 0.7532 - val_loss: 1.4617 - learning_rate: 0.0010\n",
            "Epoch 7/50\n",
            "\u001b[1m183/183\u001b[0m \u001b[32m━━━━━━━━━━━━━━━━━━━━\u001b[0m\u001b[37m\u001b[0m \u001b[1m575s\u001b[0m 3s/step - accuracy: 0.9486 - loss: 0.1119 - val_accuracy: 0.7816 - val_loss: 1.2473 - learning_rate: 0.0010\n",
            "Epoch 8/50\n",
            "\u001b[1m183/183\u001b[0m \u001b[32m━━━━━━━━━━━━━━━━━━━━\u001b[0m\u001b[37m\u001b[0m \u001b[1m625s\u001b[0m 3s/step - accuracy: 0.9490 - loss: 0.1196 - val_accuracy: 0.7603 - val_loss: 1.1849 - learning_rate: 0.0010\n",
            "Epoch 9/50\n",
            "\u001b[1m183/183\u001b[0m \u001b[32m━━━━━━━━━━━━━━━━━━━━\u001b[0m\u001b[37m\u001b[0m \u001b[1m625s\u001b[0m 3s/step - accuracy: 0.9489 - loss: 0.1048 - val_accuracy: 0.7681 - val_loss: 1.4305 - learning_rate: 5.0000e-04\n",
            "Epoch 10/50\n",
            "\u001b[1m183/183\u001b[0m \u001b[32m━━━━━━━━━━━━━━━━━━━━\u001b[0m\u001b[37m\u001b[0m \u001b[1m626s\u001b[0m 3s/step - accuracy: 0.9563 - loss: 0.0886 - val_accuracy: 0.7624 - val_loss: 1.5445 - learning_rate: 5.0000e-04\n"
          ]
        }
      ],
      "source": [
        "early_stopping = tf.keras.callbacks.EarlyStopping(\n",
        "    monitor='val_loss',\n",
        "    patience=5,\n",
        "    restore_best_weights=True\n",
        ")\n",
        "\n",
        "lr_scheduler = tf.keras.callbacks.ReduceLROnPlateau(\n",
        "    monitor='val_loss',\n",
        "    factor=0.5,\n",
        "    patience=3,\n",
        "    min_lr=1e-6\n",
        ")\n",
        "\n",
        "history = model.fit(\n",
        "    training_dataset,\n",
        "    validation_data=validation_dataset,\n",
        "    epochs=50,  # More epochs with early stopping\n",
        "    callbacks=[early_stopping, lr_scheduler],\n",
        "    verbose=1\n",
        ")"
      ]
    },
    {
      "cell_type": "code",
      "execution_count": 19,
      "metadata": {
        "id": "pcg1ysBcBUzy"
      },
      "outputs": [
        {
          "data": {
            "image/png": "[encoded data removed]",
            "text/plain": [
              "<Figure size 640x480 with 1 Axes>"
            ]
          },
          "metadata": {},
          "output_type": "display_data"
        }
      ],
      "source": [
        "# Plot the training and validation accuracies for each epoch\n",
        "import matplotlib.pyplot as plt\n",
        "\n",
        "acc = history.history['accuracy']\n",
        "val_acc = history.history['val_accuracy']\n",
        "loss = history.history['loss']\n",
        "val_loss = history.history['val_loss']\n",
        "\n",
        "epochs = range(len(acc))\n",
        "\n",
        "plt.plot(epochs, acc, 'r', label='Training accuracy')\n",
        "plt.plot(epochs, val_acc, 'b', label='Validation accuracy')\n",
        "plt.title('Training and validation accuracy')\n",
        "plt.legend(loc=0)\n",
        "plt.show()"
      ]
    },
    {
      "cell_type": "code",
      "execution_count": null,
      "metadata": {
        "id": "OieIS2gpBXO6"
      },
      "outputs": [],
      "source": [
        "\n",
        "model.save('oral-diseases-model-inceptionv3.keras')"
      ]
    }
  ],
  "metadata": {
    "colab": {
      "provenance": []
    },
    "kernelspec": {
      "display_name": "Python 3",
      "name": "python3"
    },
    "language_info": {
      "codemirror_mode": {
        "name": "ipython",
        "version": 3
      },
      "file_extension": ".py",
      "mimetype": "text/x-python",
      "name": "python",
      "nbconvert_exporter": "python",
      "pygments_lexer": "ipython3",
      "version": "3.10.11"
    }
  },
  "nbformat": 4,
  "nbformat_minor": 0
}
